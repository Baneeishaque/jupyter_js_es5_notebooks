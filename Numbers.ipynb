{
 "cells": [
  {
   "cell_type": "code",
   "execution_count": 8,
   "metadata": {},
   "outputs": [
    {
     "name": "stdout",
     "output_type": "stream",
     "text": [
      "The result of 3/3 is 1\n",
      "The result of 3/2 is 1.5\n",
      "The result of 3/2.6 is 1.1538461538461537\n",
      "The result of 3/1.6 is 1.875\n"
     ]
    }
   ],
   "source": [
    "console.log('The result of 3/3 is',3/3);\n",
    "console.log('The result of 3/2 is',3/2);\n",
    "console.log('The result of 3/2.6 is',3/2.6);\n",
    "console.log('The result of 3/1.6 is',3/1.6);"
   ]
  },
  {
   "cell_type": "code",
   "execution_count": 9,
   "metadata": {},
   "outputs": [
    {
     "name": "stdout",
     "output_type": "stream",
     "text": [
      "Math.floor of (3/3) is 1\n",
      "Math.floor of (3/2) is 1\n",
      "Math.floor of (3/2.6) is 1\n",
      "Math.floor of (3/1.6) is 1\n"
     ]
    }
   ],
   "source": [
    "console.log('Math.floor of (3/3) is',Math.floor(3/3));\n",
    "console.log('Math.floor of (3/2) is',Math.floor(3/2));\n",
    "console.log('Math.floor of (3/2.6) is',Math.floor(3/2.6));\n",
    "console.log('Math.floor of (3/1.6) is',Math.floor(3/1.6));"
   ]
  },
  {
   "cell_type": "code",
   "execution_count": null,
   "metadata": {},
   "outputs": [],
   "source": []
  }
 ],
 "metadata": {
  "kernelspec": {
   "display_name": "Javascript (Node.js)",
   "language": "javascript",
   "name": "javascript"
  },
  "language_info": {
   "file_extension": ".js",
   "mimetype": "application/javascript",
   "name": "javascript",
   "version": "12.19.0"
  }
 },
 "nbformat": 4,
 "nbformat_minor": 4
}
