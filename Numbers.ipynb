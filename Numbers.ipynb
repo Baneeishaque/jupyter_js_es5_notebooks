{
 "cells": [
  {
   "cell_type": "markdown",
   "metadata": {},
   "source": [
    "Numbers in JavaScript are \"double-precision 64-bit format IEEE 754 values\". So an apparent integer is in fact implicitly a float."
   ]
  },
  {
   "cell_type": "code",
   "execution_count": 3,
   "metadata": {
    "scrolled": true
   },
   "outputs": [
    {
     "name": "stdout",
     "output_type": "stream",
     "text": [
      "The result of 3/3 is 1\n",
      "The result of 3/2 is 1.5\n",
      "The result of 3/2.6 is 1.1538461538461537\n",
      "The result of 3/1.6 is 1.875\n"
     ]
    }
   ],
   "source": [
    "console.log('The result of 3/3 is',3/3);\n",
    "console.log('The result of 3/2 is',3/2);\n",
    "console.log('The result of 3/2.6 is',3/2.6);\n",
    "console.log('The result of 3/1.6 is',3/1.6);"
   ]
  },
  {
   "cell_type": "code",
   "execution_count": 7,
   "metadata": {},
   "outputs": [
    {
     "data": {
      "text/plain": [
       "0.30000000000000004"
      ]
     },
     "execution_count": 7,
     "metadata": {},
     "output_type": "execute_result"
    }
   ],
   "source": [
    "0.1 + 0.2"
   ]
  },
  {
   "cell_type": "code",
   "execution_count": 6,
   "metadata": {},
   "outputs": [
    {
     "data": {
      "text/plain": [
       "false"
      ]
     },
     "execution_count": 6,
     "metadata": {},
     "output_type": "execute_result"
    }
   ],
   "source": [
    "0.1 + 0.2 == 0.3;"
   ]
  },
  {
   "cell_type": "code",
   "execution_count": 5,
   "metadata": {},
   "outputs": [
    {
     "data": {
      "text/plain": [
       "true"
      ]
     },
     "execution_count": 5,
     "metadata": {},
     "output_type": "execute_result"
    }
   ],
   "source": [
    "0.1 + 0.2 == 0.30000000000000004;"
   ]
  },
  {
   "cell_type": "markdown",
   "metadata": {},
   "source": [
    "In practice, integer values are treated as 32-bit ints, and some implementations even store it that way until they are asked to perform an instruction that's valid on a Number but not on a 32-bit integer. This can be important for bit-wise operations."
   ]
  },
  {
   "cell_type": "markdown",
   "metadata": {},
   "source": [
    "The standard arithmetic operators are supported, including addition, subtraction, modulus (or remainder) arithmetic, and so forth. There's also a built-in object Math, that provides advanced mathematical functions and constants."
   ]
  },
  {
   "cell_type": "code",
   "execution_count": 12,
   "metadata": {},
   "outputs": [
    {
     "name": "stdout",
     "output_type": "stream",
     "text": [
      "sin(3.5) is  -0.35078322768961984\n",
      "circumference is  12.566370614359172\n"
     ]
    }
   ],
   "source": [
    "console.log('sin(3.5) is ',Math.sin(3.5));\n",
    "var circumference = 2 * Math.PI * 2;\n",
    "console.log('circumference is ',circumference)"
   ]
  },
  {
   "cell_type": "markdown",
   "metadata": {},
   "source": [
    "Convert a string to an integer using the built-in parseInt() function. This takes the base for the conversion as an optional second argument, which you should always provide."
   ]
  },
  {
   "cell_type": "code",
   "execution_count": 15,
   "metadata": {},
   "outputs": [
    {
     "name": "stdout",
     "output_type": "stream",
     "text": [
      "parseInt('123',10) is  123\n",
      "parseInt('010',10) is  10\n"
     ]
    }
   ],
   "source": [
    "console.log('parseInt(\\'123\\',10) is ',parseInt('123', 10));\n",
    "console.log('parseInt(\\'010\\',10) is ',parseInt('010', 10));"
   ]
  },
  {
   "cell_type": "markdown",
   "metadata": {},
   "source": [
    "In older browsers, strings beginning with a \"0\" are assumed to be in octal (radix 8). Unless you're certain of your string format, you can get surprising results on those older browsers:"
   ]
  },
  {
   "cell_type": "code",
   "execution_count": 16,
   "metadata": {},
   "outputs": [
    {
     "name": "stdout",
     "output_type": "stream",
     "text": [
      "parseInt('010') is  10\n",
      "parseInt('0x10') is  16\n"
     ]
    }
   ],
   "source": [
    "console.log('parseInt(\\'010\\') is ',parseInt('010'));\n",
    "console.log('parseInt(\\'0x10\\') is ',parseInt('0x10'));"
   ]
  },
  {
   "cell_type": "code",
   "execution_count": 4,
   "metadata": {},
   "outputs": [
    {
     "name": "stdout",
     "output_type": "stream",
     "text": [
      "Math.floor of (3/3) is 1\n",
      "Math.floor of (3/2) is 1\n",
      "Math.floor of (3/2.6) is 1\n",
      "Math.floor of (3/1.6) is 1\n"
     ]
    }
   ],
   "source": [
    "console.log('Math.floor of (3/3) is',Math.floor(3/3));\n",
    "console.log('Math.floor of (3/2) is',Math.floor(3/2));\n",
    "console.log('Math.floor of (3/2.6) is',Math.floor(3/2.6));\n",
    "console.log('Math.floor of (3/1.6) is',Math.floor(3/1.6));"
   ]
  }
 ],
 "metadata": {
  "kernelspec": {
   "display_name": "Javascript (Node.js)",
   "language": "javascript",
   "name": "javascript"
  },
  "language_info": {
   "file_extension": ".js",
   "mimetype": "application/javascript",
   "name": "javascript",
   "version": "12.19.0"
  }
 },
 "nbformat": 4,
 "nbformat_minor": 4
}
